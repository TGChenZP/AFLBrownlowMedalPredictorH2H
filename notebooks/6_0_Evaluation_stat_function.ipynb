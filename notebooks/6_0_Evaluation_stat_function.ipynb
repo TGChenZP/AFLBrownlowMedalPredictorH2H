{
 "cells": [
  {
   "cell_type": "markdown",
   "metadata": {},
   "source": [
    "# 6.0 Building the Evaluation Statistical Function #\n",
    "## For Brownlow Predictor Project ##\n",
    "\n",
    "This notebook builds evaluation statistical function for AFL Brownlow Predictor H2H version\n",
    "\n",
    "**Author: `Lang (Ron) Chen` 2023.2-2023.12**\n",
    "\n",
    "---"
   ]
  },
  {
   "cell_type": "code",
   "execution_count": 19,
   "metadata": {},
   "outputs": [],
   "source": [
    "import pandas as pd\n",
    "from collections import defaultdict as dd\n",
    "import numpy as np"
   ]
  },
  {
   "cell_type": "code",
   "execution_count": 2,
   "metadata": {},
   "outputs": [],
   "source": [
    "test_data = pd.read_parquet('../data/curated/modelling/test_data.parquet')"
   ]
  },
  {
   "cell_type": "code",
   "execution_count": 4,
   "metadata": {},
   "outputs": [],
   "source": [
    "obs_y = test_data[['player1', 'player2', 'Brownlow Votes', 'game_id']] # get observed data into useable format"
   ]
  },
  {
   "cell_type": "code",
   "execution_count": 27,
   "metadata": {},
   "outputs": [
    {
     "name": "stderr",
     "output_type": "stream",
     "text": [
      "/var/folders/xg/8w_3dndd6l5c3n99vd7vd3f40000gn/T/ipykernel_30535/3847147734.py:2: SettingWithCopyWarning: \n",
      "A value is trying to be set on a copy of a slice from a DataFrame.\n",
      "Try using .loc[row_indexer,col_indexer] = value instead\n",
      "\n",
      "See the caveats in the documentation: https://pandas.pydata.org/pandas-docs/stable/user_guide/indexing.html#returning-a-view-versus-a-copy\n",
      "  pred_y['Predicted Brownlow Votes'] = np.random.normal(size = len(pred_y))\n"
     ]
    }
   ],
   "source": [
    "pred_y = test_data[['player1', 'player2', 'game_id']]\n",
    "pred_y['Predicted Brownlow Votes'] = np.random.normal(size = len(pred_y)) # get predicted data into useable format"
   ]
  },
  {
   "cell_type": "code",
   "execution_count": 43,
   "metadata": {},
   "outputs": [],
   "source": [
    "brownlow_accuracy_metric = 0 # overall metric\n",
    "\n",
    "for game_id in set(obs_y['game_id']): # every game\n",
    "\n",
    "    # initialise tallies\n",
    "    obs_leaderboard = dd(int)\n",
    "    pred_leaderboard = dd(int)\n",
    "    \n",
    "    # get H2H for one game\n",
    "    obs_game_data = obs_y[obs_y['game_id'] == game_id]\n",
    "    pred_game_data = pred_y[pred_y['game_id'] == game_id] \n",
    "\n",
    "    # for every head to head, get data\n",
    "    for row in obs_game_data.iterrows(): # first recover actual Brownlow votes\n",
    "        if row[1]['Brownlow Votes'] > 0:\n",
    "            obs_leaderboard[row[1]['player1']] += 1\n",
    "            obs_leaderboard[row[1]['player2']] -= 1\n",
    "\n",
    "        elif row[1]['Brownlow Votes'] < 0:\n",
    "            obs_leaderboard[row[1]['player1']] -= 1\n",
    "            obs_leaderboard[row[1]['player2']] += 1\n",
    "    \n",
    "    for row in pred_game_data.iterrows(): # then get predicted votes\n",
    "        if row[1]['Predicted Brownlow Votes'] > 0:\n",
    "            pred_leaderboard[row[1]['player1']] += 1\n",
    "            pred_leaderboard[row[1]['player2']] -= 1\n",
    "\n",
    "        elif row[1]['Predicted Brownlow Votes'] < 0:\n",
    "            pred_leaderboard[row[1]['player1']] -= 1\n",
    "            pred_leaderboard[row[1]['player2']] += 1\n",
    "    \n",
    "    # turn leaderboard into a useable list\n",
    "    obs_leaderboard = list(obs_leaderboard.items())\n",
    "    obs_leaderboard.sort(key = lambda x:x[1],  reverse= True)\n",
    "\n",
    "    pred_leaderboard = list(pred_leaderboard.items())\n",
    "    pred_leaderboard.sort(key = lambda x:x[1],  reverse= True)\n",
    "\n",
    "    # finally calculate the statistics of model performance for this game\n",
    "    for i in range(3):\n",
    "        if obs_leaderboard[0][0] in pred_leaderboard[i][0]:\n",
    "            brownlow_accuracy_metric += (3-i) # if 3, add 3; if 2, add 2; if 1, add 1\n",
    "        \n",
    "        if obs_leaderboard[1][0] in pred_leaderboard[i][0]:\n",
    "            brownlow_accuracy_metric += 2-abs(i-2) # if 3, add 1; if 2, add 2; if 1, add 1\n",
    "    \n",
    "        if obs_leaderboard[2][0] in pred_leaderboard[i][0]:\n",
    "            brownlow_accuracy_metric += (i+1)/3 # if 1/3, add 1; if 2/3, add 2; if 1, add 1    "
   ]
  },
  {
   "cell_type": "code",
   "execution_count": 46,
   "metadata": {},
   "outputs": [
    {
     "data": {
      "text/plain": [
       "0.06394129979035638"
      ]
     },
     "execution_count": 46,
     "metadata": {},
     "output_type": "execute_result"
    }
   ],
   "source": [
    "brownlow_accuracy_metric/len(set(obs_y['game_id']))/6"
   ]
  },
  {
   "cell_type": "code",
   "execution_count": null,
   "metadata": {},
   "outputs": [],
   "source": [
    "def get_brownlow_accuracy_metric(obs_y, pred_y):\n",
    "\n",
    "    \"\"\" Helper to evaluate Brownlow Accuracy Metrics \"\"\"\n",
    "\n",
    "    brownlow_accuracy_metric = 0 # overall metric\n",
    "\n",
    "    for game_id in set(obs_y['game_id']): # every game\n",
    "\n",
    "        # initialise tallies\n",
    "        obs_leaderboard = dd(int)\n",
    "        pred_leaderboard = dd(int)\n",
    "        \n",
    "        # get H2H for one game\n",
    "        obs_game_data = obs_y[obs_y['game_id'] == game_id]\n",
    "        pred_game_data = pred_y[pred_y['game_id'] == game_id] \n",
    "\n",
    "        # for every head to head, get data\n",
    "        for row in obs_game_data.iterrows(): # first recover actual Brownlow votes\n",
    "            if row[1]['Brownlow Votes'] > 0:\n",
    "                obs_leaderboard[row[1]['player1']] += 1\n",
    "                obs_leaderboard[row[1]['player2']] -= 1\n",
    "\n",
    "            elif row[1]['Brownlow Votes'] < 0:\n",
    "                obs_leaderboard[row[1]['player1']] -= 1\n",
    "                obs_leaderboard[row[1]['player2']] += 1\n",
    "        \n",
    "        for row in pred_game_data.iterrows(): # then get predicted votes\n",
    "            if row[1]['Predicted Brownlow Votes'] > 0:\n",
    "                pred_leaderboard[row[1]['player1']] += 1\n",
    "                pred_leaderboard[row[1]['player2']] -= 1\n",
    "\n",
    "            elif row[1]['Predicted Brownlow Votes'] < 0:\n",
    "                pred_leaderboard[row[1]['player1']] -= 1\n",
    "                pred_leaderboard[row[1]['player2']] += 1\n",
    "        \n",
    "        # turn leaderboard into a useable list\n",
    "        obs_leaderboard = list(obs_leaderboard.items())\n",
    "        obs_leaderboard.sort(key = lambda x:x[1],  reverse= True)\n",
    "\n",
    "        pred_leaderboard = list(pred_leaderboard.items())\n",
    "        pred_leaderboard.sort(key = lambda x:x[1],  reverse= True)\n",
    "\n",
    "        # finally calculate the statistics of model performance for this game\n",
    "        for i in range(3):\n",
    "            if obs_leaderboard[0][0] in pred_leaderboard[i][0]:\n",
    "                brownlow_accuracy_metric += (3-i) # if 3, add 3; if 2, add 2; if 1, add 1\n",
    "            \n",
    "            if obs_leaderboard[1][0] in pred_leaderboard[i][0]:\n",
    "                brownlow_accuracy_metric += 2-abs(i-2) # if 3, add 1; if 2, add 2; if 1, add 1\n",
    "        \n",
    "            if obs_leaderboard[2][0] in pred_leaderboard[i][0]:\n",
    "                brownlow_accuracy_metric += (i+1)/3 # if 1/3, add 1; if 2/3, add 2; if 1, add 1   \n",
    "        \n",
    "    return brownlow_accuracy_metric/(len(set(obs_y['game_id']))*6) # scale it by game, and also by max score each game could have acquired"
   ]
  }
 ],
 "metadata": {
  "kernelspec": {
   "display_name": "base",
   "language": "python",
   "name": "python3"
  },
  "language_info": {
   "codemirror_mode": {
    "name": "ipython",
    "version": 3
   },
   "file_extension": ".py",
   "mimetype": "text/x-python",
   "name": "python",
   "nbconvert_exporter": "python",
   "pygments_lexer": "ipython3",
   "version": "3.9.7"
  },
  "orig_nbformat": 4
 },
 "nbformat": 4,
 "nbformat_minor": 2
}
