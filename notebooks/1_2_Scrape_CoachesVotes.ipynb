{
 "cells": [
  {
   "cell_type": "markdown",
   "metadata": {},
   "source": []
  },
  {
   "attachments": {},
   "cell_type": "markdown",
   "metadata": {},
   "source": [
    "### WARNING\n",
    "Due to mismatch in spelling of player first names, it is recommended to not run this file, and instead download the json file from github which has most of the names corrected (approximately 27 players (aka instance in training data) who received votes were left unmatched)"
   ]
  },
  {
   "cell_type": "code",
   "execution_count": 1,
   "metadata": {},
   "outputs": [],
   "source": [
    "import requests\n",
    "from bs4 import BeautifulSoup\n",
    "import re\n",
    "import time\n",
    "import random\n",
    "import json"
   ]
  },
  {
   "cell_type": "code",
   "execution_count": 2,
   "metadata": {},
   "outputs": [],
   "source": [
    "TEAM_MAP = {\n",
    "    'Adelaide Crows': 'Adelaide',\n",
    "    'Brisbane Lions': 'Brisbane',\n",
    "    'Carlton': 'Carlton',\n",
    "    'Collingwood': 'Collingwood',\n",
    "    'Essendon': 'Essendon',\n",
    "    'Fremantle': 'Fremantle',\n",
    "    'Geelong Cats': 'Geelong',\n",
    "    'Gold Coast Suns': 'GoldCoast',\n",
    "    'GWS Giants': 'GWS',\n",
    "    'Hawthorn': 'Hawthorn',\n",
    "    'North Melbourne': 'NorthMelbourne',\n",
    "    'Melbourne': 'Melbourne',\n",
    "    'Port Adelaide': 'PortAdelaide',\n",
    "    'Richmond': 'Richmond',\n",
    "    'St Kilda': 'StKilda',\n",
    "    'Sydney Swans': 'Sydney',\n",
    "    'West Coast Eagles': 'WestCoast',\n",
    "    'Western Bulldogs': 'WesternBulldogs'\n",
    "}"
   ]
  },
  {
   "cell_type": "code",
   "execution_count": 3,
   "metadata": {},
   "outputs": [],
   "source": [
    "def get_teams_dict_list(soup):\n",
    "    \n",
    "    teams_dict_list = list()\n",
    "\n",
    "    mydivs = soup.findAll('div')\n",
    "    for div in mydivs: \n",
    "        if (div[\"class\"] == ['row', 'votes-by-match', 'py-3']):\n",
    "            team1_tmp = div.find_next('img')['alt']\n",
    "            team2_tmp = div.find_next('img').find_next('img')['alt']\n",
    "\n",
    "            team1 = TEAM_MAP[team1_tmp]\n",
    "            team2 = TEAM_MAP[team2_tmp]\n",
    "            \n",
    "            teams_dict_list.append(f'{team1} {team2}')\n",
    "\n",
    "    return teams_dict_list"
   ]
  },
  {
   "cell_type": "code",
   "execution_count": 4,
   "metadata": {},
   "outputs": [],
   "source": [
    "def get_votes_from_game(game_data):\n",
    "    \"\"\" Helper to get {player:vote} from games \"\"\"\n",
    "    game_votes_dict = {}\n",
    "\n",
    "    for string in re.findall(r'<strong>.*\\n.*\\n.*\\n.*<span', str(game_data)):\n",
    "\n",
    "        player = re.findall(r'\\t[A-Za-z \\']*[-]?[A-Za-z \\']* <span', string)[0].strip('\\t').strip('<span').strip(' ')\n",
    "        player = player.lower()\n",
    "        votes = re.findall(r'>[0-9]{1,2}', string)[0].strip('>')\n",
    "        \n",
    "        game_votes_dict[player] = int(votes)\n",
    "    \n",
    "    return game_votes_dict"
   ]
  },
  {
   "cell_type": "code",
   "execution_count": 5,
   "metadata": {},
   "outputs": [],
   "source": [
    "def get_game_vote_dict_list(soup):\n",
    "    game_vote_dict_list = list()\n",
    "    mydivs = soup.findAll('div')\n",
    "    for div in mydivs: \n",
    "        if (div[\"class\"] == ['row', 'mb-3']):\n",
    "            game_votes_dict = get_votes_from_game(div)\n",
    "            game_vote_dict_list.append(game_votes_dict)\n",
    "    \n",
    "    return game_vote_dict_list"
   ]
  },
  {
   "cell_type": "code",
   "execution_count": 6,
   "metadata": {},
   "outputs": [],
   "source": [
    "def get_year_all_votes(year):\n",
    "    year_all_votes = dict()\n",
    "\n",
    "    for round in range(1, 24):\n",
    "        url = f'https://aflcoaches.com.au/awards/the-aflca-champion-player-of-the-year-award/leaderboard/{year}/{year}01{str(round).zfill(2)}'\n",
    "        page = requests.get(url)\n",
    "        soup = BeautifulSoup(page.text, 'html.parser')\n",
    "\n",
    "        teams_dict_list = get_teams_dict_list(soup)\n",
    "        game_vote_dict_list = get_game_vote_dict_list(soup)\n",
    "\n",
    "        round_dict = {teams_dict_list[i]:game_vote_dict_list[i] for i in range(len(teams_dict_list))}\n",
    "\n",
    "        year_all_votes[round] = round_dict\n",
    "\n",
    "        time.sleep(random.uniform(0.5, 5))\n",
    "\n",
    "\n",
    "    return year_all_votes\n"
   ]
  },
  {
   "cell_type": "code",
   "execution_count": 7,
   "metadata": {},
   "outputs": [],
   "source": [
    "all_votes = dict()\n",
    "for year in range(2015, 2023):\n",
    "    all_votes[year] = get_year_all_votes(year)"
   ]
  },
  {
   "cell_type": "code",
   "execution_count": 8,
   "metadata": {},
   "outputs": [],
   "source": [
    "with open('../data/raw/AFLCA_votes.json', 'w') as f:\n",
    "    json.dump(all_votes, f, indent=4)"
   ]
  },
  {
   "cell_type": "code",
   "execution_count": null,
   "metadata": {},
   "outputs": [],
   "source": []
  }
 ],
 "metadata": {
  "kernelspec": {
   "display_name": "base",
   "language": "python",
   "name": "python3"
  },
  "language_info": {
   "codemirror_mode": {
    "name": "ipython",
    "version": 3
   },
   "file_extension": ".py",
   "mimetype": "text/x-python",
   "name": "python",
   "nbconvert_exporter": "python",
   "pygments_lexer": "ipython3",
   "version": "3.9.7"
  },
  "orig_nbformat": 4,
  "vscode": {
   "interpreter": {
    "hash": "cd78fef2128015050713e82ca51c6520b11aee7c9ee8df750520bbbc7384cbaa"
   }
  }
 },
 "nbformat": 4,
 "nbformat_minor": 2
}
